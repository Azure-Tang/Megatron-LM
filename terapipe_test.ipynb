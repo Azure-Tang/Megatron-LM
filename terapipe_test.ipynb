{
 "cells": [
  {
   "cell_type": "code",
   "execution_count": 1,
   "metadata": {},
   "outputs": [
    {
     "name": "stderr",
     "output_type": "stream",
     "text": [
      "Zarr-based strategies will not be registered because of missing packages\n"
     ]
    }
   ],
   "source": [
    "import torch\n",
    "import unittest\n",
    "from megatron.model.transformer import ParallelTransformerLayer\n",
    "from megatron.model.transformer_cache import ParallelTransformerLayerWithCache\n",
    "# from megatron import ParallelTransformerLayer, ParallelTransformerLayerWithCache \n",
    "from megatron.model.transformer import ParallelTransformerLayer\n",
    "from megatron.model.transformer_cache import ParallelTransformerLayerWithCache\n",
    "from megatron.model.enums import LayerType, AttnType, AttnMaskType\n",
    "from megatron.core.enums import ModelType\n",
    "from types import SimpleNamespace\n",
    "from unittest.mock import patch\n",
    "from megatron.initialize import initialize_megatron\n",
    "from megatron import gpu_logger\n",
    "import os"
   ]
  },
  {
   "cell_type": "code",
   "execution_count": 4,
   "metadata": {},
   "outputs": [
    {
     "name": "stdout",
     "output_type": "stream",
     "text": [
      "compare_result: False\n",
      "compare_result_max: tensor(0.0122, device='cuda:0', dtype=torch.float16, grad_fn=<MaxBackward1>)\n"
     ]
    }
   ],
   "source": [
    "# load tmp_result_output.pt and tmp_result_split_output.pt\n",
    "def load_tmp_result():\n",
    "    result = torch.load('tmp_result_output.pt')\n",
    "    result_split = torch.load('tmp_result_split_output.pt')\n",
    "    return result, result_split\n",
    "\n",
    "# print shape\n",
    "def print_shape(result, result_split):\n",
    "    print(\"result.shape:\", result.shape)\n",
    "    print(\"result_split.shape:\", result_split.shape)\n",
    "\n",
    "\n",
    "# compare result and result_split float\n",
    "def compare_result(result, result_split):\n",
    "    print(\"compare_result:\", torch.allclose(result, result_split, rtol=1e-03, atol=1e-05))\n",
    "\n",
    "\n",
    "# torch.max(torch.abs(a - b))\n",
    "def compare_result_max(result, result_split):\n",
    "    print(\"compare_result_max:\", torch.max(torch.abs(result - result_split)))\n",
    "result, sp_result = load_tmp_result()\n",
    "compare_result(result, sp_result)\n",
    "compare_result_max(result, sp_result)"
   ]
  },
  {
   "cell_type": "code",
   "execution_count": 3,
   "metadata": {},
   "outputs": [
    {
     "name": "stdout",
     "output_type": "stream",
     "text": [
      "compare_result: True\n",
      "compare_result_max: tensor(0., device='cuda:0', dtype=torch.float16)\n"
     ]
    }
   ],
   "source": [
    "def load_tmp_input():\n",
    "    result = torch.load('tmp_result_input.pt')\n",
    "    result_split = torch.load('tmp_result_split_input.pt')\n",
    "    return result, result_split\n",
    "input, sp_input = load_tmp_input()\n",
    "compare_result(input, sp_input)\n",
    "compare_result_max(input, sp_input)\n",
    "\n"
   ]
  },
  {
   "cell_type": "code",
   "execution_count": 5,
   "metadata": {},
   "outputs": [
    {
     "ename": "ModuleNotFoundError",
     "evalue": "No module named 'matplotlib'",
     "output_type": "error",
     "traceback": [
      "\u001b[0;31m---------------------------------------------------------------------------\u001b[0m",
      "\u001b[0;31mModuleNotFoundError\u001b[0m                       Traceback (most recent call last)",
      "\u001b[1;32m/home/tangjingqi/Megatron-LM/terapipe_test.ipynb Cell 4\u001b[0m line \u001b[0;36m1\n\u001b[0;32m----> <a href='vscode-notebook-cell://ssh-remote%2Bmoonshot/home/tangjingqi/Megatron-LM/terapipe_test.ipynb#W3sdnNjb2RlLXJlbW90ZQ%3D%3D?line=0'>1</a>\u001b[0m \u001b[39mimport\u001b[39;00m \u001b[39mmatplotlib\u001b[39;00m \u001b[39mas\u001b[39;00m \u001b[39mplt\u001b[39;00m\n\u001b[1;32m      <a href='vscode-notebook-cell://ssh-remote%2Bmoonshot/home/tangjingqi/Megatron-LM/terapipe_test.ipynb#W3sdnNjb2RlLXJlbW90ZQ%3D%3D?line=2'>3</a>\u001b[0m plt\u001b[39m.\u001b[39mplot(result[\u001b[39m0\u001b[39m]\u001b[39m.\u001b[39mcpu()\u001b[39m.\u001b[39mnumpy())\n",
      "\u001b[0;31mModuleNotFoundError\u001b[0m: No module named 'matplotlib'"
     ]
    }
   ],
   "source": [
    "import matplotlib as plt\n",
    "\n",
    "plt.plot(result[0].cpu().numpy())\n",
    "\n",
    "[n,d]\n",
    "[n/2,d]*2\n"
   ]
  }
 ],
 "metadata": {
  "kernelspec": {
   "display_name": "megatron",
   "language": "python",
   "name": "python3"
  },
  "language_info": {
   "codemirror_mode": {
    "name": "ipython",
    "version": 3
   },
   "file_extension": ".py",
   "mimetype": "text/x-python",
   "name": "python",
   "nbconvert_exporter": "python",
   "pygments_lexer": "ipython3",
   "version": "3.8.18"
  }
 },
 "nbformat": 4,
 "nbformat_minor": 2
}
